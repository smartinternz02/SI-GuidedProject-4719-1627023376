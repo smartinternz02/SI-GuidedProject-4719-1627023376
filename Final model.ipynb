{
  "nbformat": 4,
  "nbformat_minor": 0,
  "metadata": {
    "accelerator": "GPU",
    "colab": {
      "name": "SmartBridge.ipynb",
      "provenance": [],
      "collapsed_sections": [],
      "machine_shape": "hm"
    },
    "kernelspec": {
      "display_name": "Python 3",
      "name": "python3"
    },
    "language_info": {
      "name": "python"
    }
  },
  "cells": [
    {
      "cell_type": "code",
      "metadata": {
        "id": "kxAOEyuZs1QE"
      },
      "source": [
        ""
      ],
      "execution_count": null,
      "outputs": []
    },
    {
      "cell_type": "code",
      "metadata": {
        "id": "iM7it_ot17ip"
      },
      "source": [
        "import numpy as np\n",
        "import pandas as pd\n",
        "import seaborn as sns\n",
        "import matplotlib as plt"
      ],
      "execution_count": null,
      "outputs": []
    },
    {
      "cell_type": "code",
      "metadata": {
        "id": "d5HZg62p2AZA"
      },
      "source": [
        "import tensorflow as tf\n",
        "from tensorflow.keras.models import Sequential\n",
        "from tensorflow.keras.layers import Dense,Convolution2D,MaxPooling2D,Flatten,GlobalAveragePooling2D,Dropout\n",
        "from tensorflow.keras.preprocessing.image import ImageDataGenerator\n",
        "from tensorflow.keras.applications.inception_resnet_v2 import InceptionResNetV2"
      ],
      "execution_count": null,
      "outputs": []
    },
    {
      "cell_type": "code",
      "metadata": {
        "id": "reuoGQHr2LRI"
      },
      "source": [
        "train_1 = ImageDataGenerator(rescale = 1./255, shear_range=0.2,zoom_range=0.2,horizontal_flip=True)\n",
        "test1 = ImageDataGenerator(rescale= 1./255)"
      ],
      "execution_count": null,
      "outputs": []
    },
    {
      "cell_type": "code",
      "metadata": {
        "colab": {
          "base_uri": "https://localhost:8080/"
        },
        "id": "UENfDqym2PtY",
        "outputId": "79b2d560-757a-4630-fcfd-4b55f1368d63"
      },
      "source": [
        "X_train = train_1.flow_from_directory(r'/content/drive/MyDrive/data_set/train',target_size=(299,299),class_mode=\"categorical\")\n",
        "X_test = test1.flow_from_directory(r'/content/drive/MyDrive/data_set/val',target_size=(299,299),class_mode=\"categorical\")"
      ],
      "execution_count": null,
      "outputs": [
        {
          "output_type": "stream",
          "text": [
            "Found 18340 images belonging to 10 classes.\n",
            "Found 7857 images belonging to 10 classes.\n"
          ],
          "name": "stdout"
        }
      ]
    },
    {
      "cell_type": "code",
      "metadata": {
        "id": "MgqfKPpq2Sa7"
      },
      "source": [
        "model=Sequential([InceptionResNetV2(include_top=False,input_shape=(299,299,3),weights='imagenet'),\n",
        "                  Dropout(0.2),\n",
        "                  \n",
        "                  \n",
        "                  GlobalAveragePooling2D(),\n",
        "                  \n",
        "                  Dropout(0.8),\n",
        "                 \n",
        "                  \n",
        "                  Dense(10,activation='softmax'),\n",
        "\n",
        "                  ])\n",
        "    \n",
        "  \n"
      ],
      "execution_count": null,
      "outputs": []
    },
    {
      "cell_type": "markdown",
      "metadata": {
        "id": "EAaGDIe6sJ9y"
      },
      "source": [
        "#ALTERNATE MODEL\n"
      ]
    },
    {
      "cell_type": "code",
      "metadata": {
        "id": "cp0wUw-XxvW1"
      },
      "source": [
        "model=tf.keras.models.Sequential([\n",
        "    \n",
        "    tf.keras.layers.Conv2D(128, (3,3), activation='relu', input_shape=(400, 400, 3)),\n",
        "    tf.keras.layers.MaxPooling2D(2, 2),\n",
        "    tf.keras.layers.Conv2D(128, (3,3), activation='relu'),\n",
        "    tf.keras.layers.MaxPooling2D(2,2),\n",
        "    tf.keras.layers.Conv2D(128, (3,3), activation='relu'),\n",
        "    tf.keras.layers.MaxPooling2D(2,2),\n",
        "    GlobalAveragePooling2D(),\n",
        "    Dropout(0.5),\n",
        "    Dense(10,activation='softmax')])"
      ],
      "execution_count": null,
      "outputs": []
    },
    {
      "cell_type": "markdown",
      "metadata": {
        "id": "IzcI-7XLsQQm"
      },
      "source": [
        "End of alternate model\n"
      ]
    },
    {
      "cell_type": "code",
      "metadata": {
        "id": "zL8Bwqcf3Rn0"
      },
      "source": [
        "model.compile(optimizer='adam',metrics=['accuracy'],loss='categorical_crossentropy')"
      ],
      "execution_count": null,
      "outputs": []
    },
    {
      "cell_type": "code",
      "metadata": {
        "colab": {
          "base_uri": "https://localhost:8080/"
        },
        "id": "6AG1lxF4R4a4",
        "outputId": "cf22bfdc-06dd-4a65-b3f9-7b491598655f"
      },
      "source": [
        "model.summary()"
      ],
      "execution_count": null,
      "outputs": [
        {
          "output_type": "stream",
          "text": [
            "Model: \"sequential_6\"\n",
            "_________________________________________________________________\n",
            "Layer (type)                 Output Shape              Param #   \n",
            "=================================================================\n",
            "inception_resnet_v2 (Functio (None, 8, 8, 1536)        54336736  \n",
            "_________________________________________________________________\n",
            "dropout_9 (Dropout)          (None, 8, 8, 1536)        0         \n",
            "_________________________________________________________________\n",
            "global_average_pooling2d_6 ( (None, 1536)              0         \n",
            "_________________________________________________________________\n",
            "dropout_10 (Dropout)         (None, 1536)              0         \n",
            "_________________________________________________________________\n",
            "dense_4 (Dense)              (None, 10)                15370     \n",
            "=================================================================\n",
            "Total params: 54,352,106\n",
            "Trainable params: 54,291,562\n",
            "Non-trainable params: 60,544\n",
            "_________________________________________________________________\n"
          ],
          "name": "stdout"
        }
      ]
    },
    {
      "cell_type": "code",
      "metadata": {
        "colab": {
          "base_uri": "https://localhost:8080/"
        },
        "id": "GuUFFgNJ3eQi",
        "outputId": "2d578cf0-d69c-4059-f367-89f93264b9f0"
      },
      "source": [
        "model.fit(X_train,epochs=2,validation_data=X_test, verbose=1)"
      ],
      "execution_count": null,
      "outputs": [
        {
          "output_type": "stream",
          "text": [
            "Epoch 1/2\n",
            "574/574 [==============================] - 405s 704ms/step - loss: 0.3862 - accuracy: 0.8835 - val_loss: 0.6094 - val_accuracy: 0.8113\n",
            "Epoch 2/2\n",
            "574/574 [==============================] - 402s 700ms/step - loss: 0.3229 - accuracy: 0.8993 - val_loss: 0.4620 - val_accuracy: 0.8639\n"
          ],
          "name": "stdout"
        },
        {
          "output_type": "execute_result",
          "data": {
            "text/plain": [
              "<tensorflow.python.keras.callbacks.History at 0x7ff093d29250>"
            ]
          },
          "metadata": {
            "tags": []
          },
          "execution_count": 62
        }
      ]
    },
    {
      "cell_type": "code",
      "metadata": {
        "id": "cjMGfTv73pp9"
      },
      "source": [
        "from tensorflow.keras.models import load_model\n",
        "model.save('/content/drive/MyDrive/smartbridge.h5')"
      ],
      "execution_count": null,
      "outputs": []
    },
    {
      "cell_type": "code",
      "metadata": {
        "id": "QZ0snWIMzJe-"
      },
      "source": [
        ""
      ],
      "execution_count": null,
      "outputs": []
    }
  ]
}